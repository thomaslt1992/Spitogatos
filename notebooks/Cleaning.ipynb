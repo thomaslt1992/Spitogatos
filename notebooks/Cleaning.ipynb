{
 "cells": [
  {
   "cell_type": "code",
   "execution_count": 2,
   "metadata": {},
   "outputs": [],
   "source": [
    "import pandas as pd\n",
    "import sys\n",
    "import warnings\n",
    "warnings.filterwarnings('ignore')\n",
    "\n",
    "\n",
    "sys.path.append('../')\n",
    "from src.cleaning import remove_nan\n",
    "from src.cleaning import THRESHOLD\n",
    "from src.cleaning import remove_all_outliers\n",
    "\n",
    "data = pd.read_csv('../data/assignment_rev2.csv')\n",
    "# we remove all columns with more than 80% (threhold) of NA values due they corrupt our results\n",
    "data = remove_nan(data,threshold=THRESHOLD)\n"
   ]
  },
  {
   "cell_type": "code",
   "execution_count": 4,
   "metadata": {},
   "outputs": [
    {
     "data": {
      "text/plain": [
       "Index(['id', 'ranking_score', 'agent_id', 'geography_name', 'sq_meters',\n",
       "       'price', 'year_of_construction', 'floor', 'subtype', 'rooms',\n",
       "       'no_of_bathrooms', 'no_of_wc', 'ad_type', 'living_rooms', 'kitchens',\n",
       "       'balcony_area', 'lux_home', 'new_development', 'garage', 'furnished',\n",
       "       'preserved', 'investment', 'unfinished', 'heating_under_floor',\n",
       "       'renovated', 'requires_renovation', 'airy', 'bright', 'painted',\n",
       "       'garden', 'ac', 'storage', 'balcony', 'internal_stairs', 'view',\n",
       "       'secure_door', 'penthouse', 'alarm', 'corner', 'holiday_home',\n",
       "       'student_home', 'night_power', 'neoclassic', 'double_glass',\n",
       "       'for_commercial_use', 'fireplace', 'elevator', 'satellite',\n",
       "       'solar_heater', 'attic', 'pool', 'playroom'],\n",
       "      dtype='object')"
      ]
     },
     "execution_count": 4,
     "metadata": {},
     "output_type": "execute_result"
    }
   ],
   "source": [
    "data.columns"
   ]
  },
  {
   "cell_type": "code",
   "execution_count": 3,
   "metadata": {},
   "outputs": [
    {
     "name": "stdout",
     "output_type": "stream",
     "text": [
      "Before the outlier handling 95.26 % of the original dataset is preserved\n",
      "\n",
      "After the removal of outliers 91.10 % of the original dataset is preserved\n"
     ]
    }
   ],
   "source": [
    "#create a subset based on the interest we have\n",
    "set_1 =  ['id','ranking_score','geography_name','sq_meters','price','year_of_construction','ad_type','floor','rooms','subtype']\n",
    "subset = data[set_1]\n",
    "subset = subset.dropna(axis=0,how='any')\n",
    "\n",
    "# We create the price per square meter column\n",
    "subset['price_per_sqrm'] = round(subset['price'] / subset['sq_meters'],0)\n",
    "\n",
    "print(\"Before the outlier handling {:.2f} % of the original dataset is preserved\".format(len(subset)/len(data)*100))\n",
    "subset = remove_all_outliers(subset, not_count = ['year_of_contruction']).reset_index(drop=True)\n",
    "print(\"\\nAfter the removal of outliers {:.2f} % of the original dataset is preserved\".format(len(subset)/len(data)*100))"
   ]
  },
  {
   "attachments": {},
   "cell_type": "markdown",
   "metadata": {},
   "source": [
    "### Anti-Corruption of dataset \n",
    "\n",
    "To avoid further corruption of our dataset, we will remove:\n",
    "- everything that is under construction (as the data refers to this month)\n",
    "- Any entry that has significanlty low price that cannot be realistic (<10)\n",
    "\n",
    "<i>We pressume that those values indicate a negotiable price for the condo without defining the starting point of price</i>\n"
   ]
  },
  {
   "cell_type": "code",
   "execution_count": 4,
   "metadata": {},
   "outputs": [],
   "source": [
    "subset = subset[subset['year_of_construction'] != 2155]\n",
    "subset = subset[subset['price'] > 10]\n",
    "subset['price'] = subset['price'].apply(int)"
   ]
  },
  {
   "cell_type": "code",
   "execution_count": 5,
   "metadata": {},
   "outputs": [
    {
     "name": "stdout",
     "output_type": "stream",
     "text": [
      "\n",
      "After the the final steps 87.69 % of the original dataset is preserved\n"
     ]
    }
   ],
   "source": [
    "print(\"\\nAfter the the final steps {:.2f} % of the original dataset is preserved\".format(len(subset)/len(data)*100))"
   ]
  },
  {
   "cell_type": "code",
   "execution_count": 6,
   "metadata": {},
   "outputs": [
    {
     "data": {
      "text/html": [
       "<div>\n",
       "<style scoped>\n",
       "    .dataframe tbody tr th:only-of-type {\n",
       "        vertical-align: middle;\n",
       "    }\n",
       "\n",
       "    .dataframe tbody tr th {\n",
       "        vertical-align: top;\n",
       "    }\n",
       "\n",
       "    .dataframe thead th {\n",
       "        text-align: right;\n",
       "    }\n",
       "</style>\n",
       "<table border=\"1\" class=\"dataframe\">\n",
       "  <thead>\n",
       "    <tr style=\"text-align: right;\">\n",
       "      <th></th>\n",
       "      <th>id</th>\n",
       "      <th>ranking_score</th>\n",
       "      <th>sq_meters</th>\n",
       "      <th>price</th>\n",
       "      <th>year_of_construction</th>\n",
       "      <th>rooms</th>\n",
       "      <th>price_per_sqrm</th>\n",
       "    </tr>\n",
       "  </thead>\n",
       "  <tbody>\n",
       "    <tr>\n",
       "      <th>count</th>\n",
       "      <td>13545.0</td>\n",
       "      <td>13545.0</td>\n",
       "      <td>13545.0</td>\n",
       "      <td>13545.0</td>\n",
       "      <td>13545.0</td>\n",
       "      <td>13545.0</td>\n",
       "      <td>13545.0</td>\n",
       "    </tr>\n",
       "    <tr>\n",
       "      <th>mean</th>\n",
       "      <td>41330985.0</td>\n",
       "      <td>119.0</td>\n",
       "      <td>180.0</td>\n",
       "      <td>513516.0</td>\n",
       "      <td>1992.0</td>\n",
       "      <td>3.0</td>\n",
       "      <td>2852.0</td>\n",
       "    </tr>\n",
       "    <tr>\n",
       "      <th>std</th>\n",
       "      <td>2084003.0</td>\n",
       "      <td>31.0</td>\n",
       "      <td>140.0</td>\n",
       "      <td>442933.0</td>\n",
       "      <td>20.0</td>\n",
       "      <td>1.0</td>\n",
       "      <td>1419.0</td>\n",
       "    </tr>\n",
       "    <tr>\n",
       "      <th>min</th>\n",
       "      <td>35000486.0</td>\n",
       "      <td>24.0</td>\n",
       "      <td>12.0</td>\n",
       "      <td>300.0</td>\n",
       "      <td>1901.0</td>\n",
       "      <td>0.0</td>\n",
       "      <td>4.0</td>\n",
       "    </tr>\n",
       "    <tr>\n",
       "      <th>25%</th>\n",
       "      <td>40463714.0</td>\n",
       "      <td>98.0</td>\n",
       "      <td>87.0</td>\n",
       "      <td>220000.0</td>\n",
       "      <td>1977.0</td>\n",
       "      <td>2.0</td>\n",
       "      <td>1905.0</td>\n",
       "    </tr>\n",
       "    <tr>\n",
       "      <th>50%</th>\n",
       "      <td>42131341.0</td>\n",
       "      <td>123.0</td>\n",
       "      <td>134.0</td>\n",
       "      <td>380000.0</td>\n",
       "      <td>1995.0</td>\n",
       "      <td>3.0</td>\n",
       "      <td>2632.0</td>\n",
       "    </tr>\n",
       "    <tr>\n",
       "      <th>75%</th>\n",
       "      <td>42848201.0</td>\n",
       "      <td>144.0</td>\n",
       "      <td>231.0</td>\n",
       "      <td>650000.0</td>\n",
       "      <td>2009.0</td>\n",
       "      <td>3.0</td>\n",
       "      <td>3488.0</td>\n",
       "    </tr>\n",
       "    <tr>\n",
       "      <th>max</th>\n",
       "      <td>43464103.0</td>\n",
       "      <td>183.0</td>\n",
       "      <td>3000.0</td>\n",
       "      <td>2600000.0</td>\n",
       "      <td>2020.0</td>\n",
       "      <td>10.0</td>\n",
       "      <td>16667.0</td>\n",
       "    </tr>\n",
       "  </tbody>\n",
       "</table>\n",
       "</div>"
      ],
      "text/plain": [
       "               id  ranking_score  sq_meters      price  year_of_construction  \\\n",
       "count     13545.0        13545.0    13545.0    13545.0               13545.0   \n",
       "mean   41330985.0          119.0      180.0   513516.0                1992.0   \n",
       "std     2084003.0           31.0      140.0   442933.0                  20.0   \n",
       "min    35000486.0           24.0       12.0      300.0                1901.0   \n",
       "25%    40463714.0           98.0       87.0   220000.0                1977.0   \n",
       "50%    42131341.0          123.0      134.0   380000.0                1995.0   \n",
       "75%    42848201.0          144.0      231.0   650000.0                2009.0   \n",
       "max    43464103.0          183.0     3000.0  2600000.0                2020.0   \n",
       "\n",
       "         rooms  price_per_sqrm  \n",
       "count  13545.0         13545.0  \n",
       "mean       3.0          2852.0  \n",
       "std        1.0          1419.0  \n",
       "min        0.0             4.0  \n",
       "25%        2.0          1905.0  \n",
       "50%        3.0          2632.0  \n",
       "75%        3.0          3488.0  \n",
       "max       10.0         16667.0  "
      ]
     },
     "metadata": {},
     "output_type": "display_data"
    }
   ],
   "source": [
    "display(subset.describe().round(0))"
   ]
  },
  {
   "cell_type": "code",
   "execution_count": 7,
   "metadata": {},
   "outputs": [
    {
     "data": {
      "text/html": [
       "<div>\n",
       "<style scoped>\n",
       "    .dataframe tbody tr th:only-of-type {\n",
       "        vertical-align: middle;\n",
       "    }\n",
       "\n",
       "    .dataframe tbody tr th {\n",
       "        vertical-align: top;\n",
       "    }\n",
       "\n",
       "    .dataframe thead th {\n",
       "        text-align: right;\n",
       "    }\n",
       "</style>\n",
       "<table border=\"1\" class=\"dataframe\">\n",
       "  <thead>\n",
       "    <tr style=\"text-align: right;\">\n",
       "      <th></th>\n",
       "      <th>id</th>\n",
       "      <th>ranking_score</th>\n",
       "      <th>geography_name</th>\n",
       "      <th>sq_meters</th>\n",
       "      <th>price</th>\n",
       "      <th>year_of_construction</th>\n",
       "      <th>ad_type</th>\n",
       "      <th>floor</th>\n",
       "      <th>rooms</th>\n",
       "      <th>subtype</th>\n",
       "      <th>price_per_sqrm</th>\n",
       "    </tr>\n",
       "  </thead>\n",
       "  <tbody>\n",
       "    <tr>\n",
       "      <th>0</th>\n",
       "      <td>42911697</td>\n",
       "      <td>47.0</td>\n",
       "      <td>northern sub</td>\n",
       "      <td>567</td>\n",
       "      <td>200000</td>\n",
       "      <td>2005</td>\n",
       "      <td>simple</td>\n",
       "      <td>1</td>\n",
       "      <td>4</td>\n",
       "      <td>apartment</td>\n",
       "      <td>353.0</td>\n",
       "    </tr>\n",
       "    <tr>\n",
       "      <th>1</th>\n",
       "      <td>43018583</td>\n",
       "      <td>134.7</td>\n",
       "      <td>northern sub</td>\n",
       "      <td>642</td>\n",
       "      <td>550000</td>\n",
       "      <td>1992</td>\n",
       "      <td>simple</td>\n",
       "      <td>ground-floor</td>\n",
       "      <td>5</td>\n",
       "      <td>detached</td>\n",
       "      <td>857.0</td>\n",
       "    </tr>\n",
       "    <tr>\n",
       "      <th>2</th>\n",
       "      <td>39670968</td>\n",
       "      <td>71.0</td>\n",
       "      <td>northern sub</td>\n",
       "      <td>320</td>\n",
       "      <td>500000</td>\n",
       "      <td>2009</td>\n",
       "      <td>simple</td>\n",
       "      <td>ground-floor</td>\n",
       "      <td>2</td>\n",
       "      <td>detached</td>\n",
       "      <td>1562.0</td>\n",
       "    </tr>\n",
       "  </tbody>\n",
       "</table>\n",
       "</div>"
      ],
      "text/plain": [
       "         id  ranking_score geography_name  sq_meters   price  \\\n",
       "0  42911697           47.0   northern sub        567  200000   \n",
       "1  43018583          134.7   northern sub        642  550000   \n",
       "2  39670968           71.0   northern sub        320  500000   \n",
       "\n",
       "   year_of_construction ad_type         floor  rooms    subtype  \\\n",
       "0                  2005  simple             1      4  apartment   \n",
       "1                  1992  simple  ground-floor      5   detached   \n",
       "2                  2009  simple  ground-floor      2   detached   \n",
       "\n",
       "   price_per_sqrm  \n",
       "0           353.0  \n",
       "1           857.0  \n",
       "2          1562.0  "
      ]
     },
     "execution_count": 7,
     "metadata": {},
     "output_type": "execute_result"
    }
   ],
   "source": [
    "subset.head(3)"
   ]
  },
  {
   "attachments": {},
   "cell_type": "markdown",
   "metadata": {},
   "source": [
    "~88% of our original dataset is a decent representation of the market at this point. \n",
    "\n",
    "We will save this dataset and move to the 1st part of the assignment to Notebook Part1.ipynb"
   ]
  },
  {
   "cell_type": "code",
   "execution_count": 8,
   "metadata": {},
   "outputs": [],
   "source": [
    "subset.to_csv('../data/subset.csv', encoding='utf-8-sig',index=False)"
   ]
  }
 ],
 "metadata": {
  "kernelspec": {
   "display_name": "base",
   "language": "python",
   "name": "python3"
  },
  "language_info": {
   "codemirror_mode": {
    "name": "ipython",
    "version": 3
   },
   "file_extension": ".py",
   "mimetype": "text/x-python",
   "name": "python",
   "nbconvert_exporter": "python",
   "pygments_lexer": "ipython3",
   "version": "3.10.9"
  },
  "orig_nbformat": 4
 },
 "nbformat": 4,
 "nbformat_minor": 2
}
